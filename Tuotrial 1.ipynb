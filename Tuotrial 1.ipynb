{
 "cells": [
  {
   "cell_type": "code",
   "execution_count": 1,
   "id": "5d727f46-a372-4248-af5d-b2cb81394d3e",
   "metadata": {},
   "outputs": [
    {
     "name": "stdout",
     "output_type": "stream",
     "text": [
      "[1 2 3]\n"
     ]
    }
   ],
   "source": [
    "import numpy as np \n",
    "\n",
    "arr = np.array([1,2,3])\n",
    "print(arr)"
   ]
  },
  {
   "cell_type": "code",
   "execution_count": 5,
   "id": "09aac24b-6976-4d30-8644-31240fdc7b29",
   "metadata": {},
   "outputs": [
    {
     "name": "stdout",
     "output_type": "stream",
     "text": [
      "[[ 0  1  2  3  4]\n",
      " [ 5  6  7  8  9]\n",
      " [10 11 12 13 14]\n",
      " [15 16 17 18 19]\n",
      " [20 21 22 23 24]\n",
      " [25 26 27 28 29]]\n"
     ]
    }
   ],
   "source": [
    "import numpy as np\n",
    "\n",
    "arr = np.arange(30).reshape(6,5)\n",
    "print(arr)"
   ]
  },
  {
   "cell_type": "code",
   "execution_count": 7,
   "id": "1f0cf7d3-c791-42fb-b581-a1a9c2587191",
   "metadata": {},
   "outputs": [
    {
     "name": "stdout",
     "output_type": "stream",
     "text": [
      "[[0. 0. 0. 0.]\n",
      " [0. 0. 0. 0.]]\n",
      "[[1. 1. 1. 1.]\n",
      " [1. 1. 1. 1.]]\n"
     ]
    }
   ],
   "source": [
    "#Question 3\n",
    "#Fill the Arrays with zeros and ones \n",
    "import numpy as np\n",
    "\n",
    "arr = np.zeros((2,4))\n",
    "print(arr)\n",
    "arr = np.ones((2,4))\n",
    "print(arr)\n"
   ]
  },
  {
   "cell_type": "code",
   "execution_count": 9,
   "id": "b49f3790-f8c6-43ed-b258-aaeac5c55742",
   "metadata": {},
   "outputs": [
    {
     "name": "stdout",
     "output_type": "stream",
     "text": [
      "[[7 7 7 7]\n",
      " [7 7 7 7]]\n"
     ]
    }
   ],
   "source": [
    "#Question 4 \n",
    "#Create a 2D Array with filler of 7\n",
    "import numpy as np\n",
    "\n",
    "arr = np.full((2,4), 7)\n",
    "print(arr)"
   ]
  },
  {
   "cell_type": "code",
   "execution_count": 13,
   "id": "4e09a06c-bb0f-40b2-b591-b70f57ede33e",
   "metadata": {},
   "outputs": [
    {
     "name": "stdout",
     "output_type": "stream",
     "text": [
      "[[ 0  1  2  3  4  5  6]\n",
      " [ 7  8  9 10 11 12 13]\n",
      " [14 15 16 17 18 19 20]\n",
      " [21 22 23 24 25 26 27]\n",
      " [28 29 30 31 32 33 34]\n",
      " [35 36 37 38 39 40 41]\n",
      " [42 43 44 45 46 47 48]]\n",
      "[[14 15 16]\n",
      " [21 22 23]\n",
      " [28 29 30]]\n",
      "[[ 0  1  2  3  4]\n",
      " [ 7  8  9 10 11]]\n",
      "[[16 17]\n",
      " [23 24]]\n",
      "[[32 33]\n",
      " [39 40]]\n",
      "[[24 25 26]\n",
      " [31 32 33]\n",
      " [38 39 40]]\n"
     ]
    }
   ],
   "source": [
    "#Question 5\n",
    "#Implement Slicing\n",
    "import numpy as np\n",
    "\n",
    "arr = np.arange(49).reshape(7,7)\n",
    "#Prt 1 \n",
    "print(arr[:,:])\n",
    "#Prt 2 \n",
    "print(arr[2:5, 0:3])\n",
    "#Prt 3\n",
    "print(arr[0:2, 0:5])\n",
    "#Prt 4\n",
    "print(arr[2:4, 2:4])\n",
    "#Prt 5 \n",
    "print(arr[-3:-1, -3:-1])\n",
    "#Prt 6 \n",
    "print(arr[-4:-1, -4:-1])\n",
    "                "
   ]
  },
  {
   "cell_type": "code",
   "execution_count": 19,
   "id": "162a8c6f-8862-4d27-836c-9fcb3f3f134d",
   "metadata": {},
   "outputs": [
    {
     "name": "stdout",
     "output_type": "stream",
     "text": [
      "1\n",
      "2\n",
      "3\n"
     ]
    }
   ],
   "source": [
    "#Question 6\n",
    "#Check the dimensions of Array\n",
    "import numpy as np\n",
    "\n",
    "arr = np.array([1,2,3,4])\n",
    "arr1 = np.array([[1,2,3], [4,5,6]])\n",
    "arr2 = np.array([[[1,2,3], [4,5,6]], [[7,8,9], [10,11,12]]])\n",
    "print(arr.ndim)\n",
    "print(arr1.ndim)\n",
    "print(arr2.ndim)"
   ]
  },
  {
   "cell_type": "code",
   "execution_count": 23,
   "id": "17405558-9f19-46ce-8ebd-b91dea8fa83b",
   "metadata": {},
   "outputs": [
    {
     "name": "stdout",
     "output_type": "stream",
     "text": [
      "[[[[[[[[2 2 2 2]]]]]]]]\n"
     ]
    }
   ],
   "source": [
    "#Question 7\n",
    "#Create 8D array with value [2, 2, 2, 2]\n",
    "import numpy as np\n",
    "\n",
    "arr = np.array([2, 2, 2, 2], ndmin = 8)\n",
    "print(arr)"
   ]
  },
  {
   "cell_type": "code",
   "execution_count": null,
   "id": "25e02448-e4a5-424f-aaba-a7d6d930ef90",
   "metadata": {},
   "outputs": [],
   "source": []
  }
 ],
 "metadata": {
  "kernelspec": {
   "display_name": "Python 3 (ipykernel)",
   "language": "python",
   "name": "python3"
  },
  "language_info": {
   "codemirror_mode": {
    "name": "ipython",
    "version": 3
   },
   "file_extension": ".py",
   "mimetype": "text/x-python",
   "name": "python",
   "nbconvert_exporter": "python",
   "pygments_lexer": "ipython3",
   "version": "3.12.4"
  }
 },
 "nbformat": 4,
 "nbformat_minor": 5
}
